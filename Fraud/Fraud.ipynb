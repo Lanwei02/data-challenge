{
 "cells": [
  {
   "cell_type": "code",
   "execution_count": 1,
   "metadata": {},
   "outputs": [],
   "source": [
    "import seaborn as sns\n",
    "import matplotlib.pyplot as plt\n",
    "import datetime\n",
    "\n",
    "import pandas as pd\n",
    "import numpy as np\n",
    "pd.set_option('display.max_columns', 20)\n",
    "pd.set_option('display.width', 350)"
   ]
  },
  {
   "cell_type": "code",
   "execution_count": 2,
   "metadata": {},
   "outputs": [],
   "source": [
    "#read from google drive\n",
    "data=pd.read_csv(\"https://drive.google.com/uc?export=download&id=1nhZhMk_2SIpP8e1_xXLPmWxB52v-sA6w\")"
   ]
  },
  {
   "cell_type": "code",
   "execution_count": 3,
   "metadata": {},
   "outputs": [
    {
     "data": {
      "text/html": [
       "<div>\n",
       "<style scoped>\n",
       "    .dataframe tbody tr th:only-of-type {\n",
       "        vertical-align: middle;\n",
       "    }\n",
       "\n",
       "    .dataframe tbody tr th {\n",
       "        vertical-align: top;\n",
       "    }\n",
       "\n",
       "    .dataframe thead th {\n",
       "        text-align: right;\n",
       "    }\n",
       "</style>\n",
       "<table border=\"1\" class=\"dataframe\">\n",
       "  <thead>\n",
       "    <tr style=\"text-align: right;\">\n",
       "      <th></th>\n",
       "      <th>user_id</th>\n",
       "      <th>signup_time</th>\n",
       "      <th>purchase_time</th>\n",
       "      <th>purchase_value</th>\n",
       "      <th>device_id</th>\n",
       "      <th>source</th>\n",
       "      <th>browser</th>\n",
       "      <th>sex</th>\n",
       "      <th>age</th>\n",
       "      <th>ip_address</th>\n",
       "      <th>class</th>\n",
       "    </tr>\n",
       "  </thead>\n",
       "  <tbody>\n",
       "    <tr>\n",
       "      <th>0</th>\n",
       "      <td>22058</td>\n",
       "      <td>2015-02-24 22:55:49</td>\n",
       "      <td>2015-04-18 02:47:11</td>\n",
       "      <td>34</td>\n",
       "      <td>QVPSPJUOCKZAR</td>\n",
       "      <td>SEO</td>\n",
       "      <td>Chrome</td>\n",
       "      <td>M</td>\n",
       "      <td>39</td>\n",
       "      <td>7.327584e+08</td>\n",
       "      <td>0</td>\n",
       "    </tr>\n",
       "    <tr>\n",
       "      <th>1</th>\n",
       "      <td>333320</td>\n",
       "      <td>2015-06-07 20:39:50</td>\n",
       "      <td>2015-06-08 01:38:54</td>\n",
       "      <td>16</td>\n",
       "      <td>EOGFQPIZPYXFZ</td>\n",
       "      <td>Ads</td>\n",
       "      <td>Chrome</td>\n",
       "      <td>F</td>\n",
       "      <td>53</td>\n",
       "      <td>3.503114e+08</td>\n",
       "      <td>0</td>\n",
       "    </tr>\n",
       "    <tr>\n",
       "      <th>2</th>\n",
       "      <td>1359</td>\n",
       "      <td>2015-01-01 18:52:44</td>\n",
       "      <td>2015-01-01 18:52:45</td>\n",
       "      <td>15</td>\n",
       "      <td>YSSKYOSJHPPLJ</td>\n",
       "      <td>SEO</td>\n",
       "      <td>Opera</td>\n",
       "      <td>M</td>\n",
       "      <td>53</td>\n",
       "      <td>2.621474e+09</td>\n",
       "      <td>1</td>\n",
       "    </tr>\n",
       "    <tr>\n",
       "      <th>3</th>\n",
       "      <td>150084</td>\n",
       "      <td>2015-04-28 21:13:25</td>\n",
       "      <td>2015-05-04 13:54:50</td>\n",
       "      <td>44</td>\n",
       "      <td>ATGTXKYKUDUQN</td>\n",
       "      <td>SEO</td>\n",
       "      <td>Safari</td>\n",
       "      <td>M</td>\n",
       "      <td>41</td>\n",
       "      <td>3.840542e+09</td>\n",
       "      <td>0</td>\n",
       "    </tr>\n",
       "    <tr>\n",
       "      <th>4</th>\n",
       "      <td>221365</td>\n",
       "      <td>2015-07-21 07:09:52</td>\n",
       "      <td>2015-09-09 18:40:53</td>\n",
       "      <td>39</td>\n",
       "      <td>NAUITBZFJKHWW</td>\n",
       "      <td>Ads</td>\n",
       "      <td>Safari</td>\n",
       "      <td>M</td>\n",
       "      <td>45</td>\n",
       "      <td>4.155831e+08</td>\n",
       "      <td>0</td>\n",
       "    </tr>\n",
       "  </tbody>\n",
       "</table>\n",
       "</div>"
      ],
      "text/plain": [
       "   user_id          signup_time        purchase_time  purchase_value      device_id source browser sex  age    ip_address  class\n",
       "0    22058  2015-02-24 22:55:49  2015-04-18 02:47:11              34  QVPSPJUOCKZAR    SEO  Chrome   M   39  7.327584e+08      0\n",
       "1   333320  2015-06-07 20:39:50  2015-06-08 01:38:54              16  EOGFQPIZPYXFZ    Ads  Chrome   F   53  3.503114e+08      0\n",
       "2     1359  2015-01-01 18:52:44  2015-01-01 18:52:45              15  YSSKYOSJHPPLJ    SEO   Opera   M   53  2.621474e+09      1\n",
       "3   150084  2015-04-28 21:13:25  2015-05-04 13:54:50              44  ATGTXKYKUDUQN    SEO  Safari   M   41  3.840542e+09      0\n",
       "4   221365  2015-07-21 07:09:52  2015-09-09 18:40:53              39  NAUITBZFJKHWW    Ads  Safari   M   45  4.155831e+08      0"
      ]
     },
     "execution_count": 3,
     "metadata": {},
     "output_type": "execute_result"
    }
   ],
   "source": [
    "#fix ip address\n",
    "data['ip_address']=round(data['ip_address'])\n",
    "  \n",
    "data.head()"
   ]
  },
  {
   "cell_type": "code",
   "execution_count": 4,
   "metadata": {},
   "outputs": [
    {
     "data": {
      "text/plain": [
       "(151112, 11)"
      ]
     },
     "execution_count": 4,
     "metadata": {},
     "output_type": "execute_result"
    }
   ],
   "source": [
    "data.shape"
   ]
  },
  {
   "cell_type": "code",
   "execution_count": 5,
   "metadata": {},
   "outputs": [
    {
     "data": {
      "text/html": [
       "<div>\n",
       "<style scoped>\n",
       "    .dataframe tbody tr th:only-of-type {\n",
       "        vertical-align: middle;\n",
       "    }\n",
       "\n",
       "    .dataframe tbody tr th {\n",
       "        vertical-align: top;\n",
       "    }\n",
       "\n",
       "    .dataframe thead th {\n",
       "        text-align: right;\n",
       "    }\n",
       "</style>\n",
       "<table border=\"1\" class=\"dataframe\">\n",
       "  <thead>\n",
       "    <tr style=\"text-align: right;\">\n",
       "      <th></th>\n",
       "      <th>lower_bound_ip_address</th>\n",
       "      <th>upper_bound_ip_address</th>\n",
       "      <th>country</th>\n",
       "    </tr>\n",
       "  </thead>\n",
       "  <tbody>\n",
       "    <tr>\n",
       "      <th>0</th>\n",
       "      <td>16777216.0</td>\n",
       "      <td>16777471</td>\n",
       "      <td>Australia</td>\n",
       "    </tr>\n",
       "    <tr>\n",
       "      <th>1</th>\n",
       "      <td>16777472.0</td>\n",
       "      <td>16777727</td>\n",
       "      <td>China</td>\n",
       "    </tr>\n",
       "    <tr>\n",
       "      <th>2</th>\n",
       "      <td>16777728.0</td>\n",
       "      <td>16778239</td>\n",
       "      <td>China</td>\n",
       "    </tr>\n",
       "    <tr>\n",
       "      <th>3</th>\n",
       "      <td>16778240.0</td>\n",
       "      <td>16779263</td>\n",
       "      <td>Australia</td>\n",
       "    </tr>\n",
       "    <tr>\n",
       "      <th>4</th>\n",
       "      <td>16779264.0</td>\n",
       "      <td>16781311</td>\n",
       "      <td>China</td>\n",
       "    </tr>\n",
       "  </tbody>\n",
       "</table>\n",
       "</div>"
      ],
      "text/plain": [
       "   lower_bound_ip_address  upper_bound_ip_address    country\n",
       "0              16777216.0                16777471  Australia\n",
       "1              16777472.0                16777727      China\n",
       "2              16777728.0                16778239      China\n",
       "3              16778240.0                16779263  Australia\n",
       "4              16779264.0                16781311      China"
      ]
     },
     "execution_count": 5,
     "metadata": {},
     "output_type": "execute_result"
    }
   ],
   "source": [
    "#Read from google drive\n",
    "ip_addresses=pd.read_csv(\"https://drive.google.com/uc?export=download&id=1rzr6aVDHlSuKFZHOvE6wJI-yzv7ICYuY\")\n",
    "  \n",
    "ip_addresses.head()"
   ]
  },
  {
   "cell_type": "markdown",
   "metadata": {},
   "source": [
    "## For each user, determine their country based on the IP address"
   ]
  },
  {
   "cell_type": "code",
   "execution_count": 6,
   "metadata": {},
   "outputs": [],
   "source": [
    "def get_country_by_ip_address(data, ip_addresses):\n",
    "    #### Get Country by ip address\n",
    "    data_country = []\n",
    "    for i in range(data.shape[0]):\n",
    "        tmp = ip_addresses[(ip_addresses['lower_bound_ip_address'] <= data['ip_address'][i])\n",
    "                                        &(ip_addresses['upper_bound_ip_address'] >= data['ip_address'][i])]['country'].values\n",
    "        if len(tmp) != 0:\n",
    "            data_country.append(tmp)\n",
    "        else:\n",
    "            data_country.append('na')\n",
    "    data['country'] = data_country\n",
    "    data['country'] = data['country'].str.get(0)\n",
    "    return data"
   ]
  },
  {
   "cell_type": "code",
   "execution_count": 7,
   "metadata": {},
   "outputs": [],
   "source": [
    "data = get_country_by_ip_address(data, ip_addresses)"
   ]
  },
  {
   "cell_type": "markdown",
   "metadata": {},
   "source": [
    "## Exploratory data analysis & Feature Engineering"
   ]
  },
  {
   "cell_type": "markdown",
   "metadata": {},
   "source": [
    "###      Create New Features 1"
   ]
  },
  {
   "cell_type": "code",
   "execution_count": 10,
   "metadata": {},
   "outputs": [],
   "source": [
    "def create_new_features(data):\n",
    "    #make datatime string to datetime format\n",
    "    data[\"signup_time\"] = pd.to_datetime(data[\"signup_time\"])\n",
    "    data[\"purchase_time\"] = pd.to_datetime(data[\"purchase_time\"])\n",
    "    \n",
    "    #purchase time minus sign up time\n",
    "    data['purchase_signup_diff'] =  (data[\"purchase_time\"]-data[\"signup_time\"]).dt.total_seconds()\n",
    "    \n",
    "    #if the device is shared by multiple users\n",
    "    data['device_id_count'] = data.groupby('device_id')['device_id'].transform('count')\n",
    "    \n",
    "    #it the ip address us shared by multiple users\n",
    "    data['ip_address_count'] = data.groupby('ip_address')['ip_address'].transform('count')\n",
    "    \n",
    "    #Time since the last order purchased by one single ip_address & device_id (too slow)\n",
    "    time_diff_last_order_ip_address = data[['purchase_time', 'ip_address', 'class']]\n",
    "    time_diff_last_order_ip_address = time_diff_last_order_ip_address.groupby('ip_address').apply(lambda x: (x['purchase_time'] - x['purchase_time'].shift(+1)).dt.seconds).reset_index()\n",
    "    time_diff_last_order_ip_address.columns = ['ip_address', 'index', 'time_diff_last_order']\n",
    "    time_diff_last_order_ip_address = time_diff_last_order_ip_address.set_index('index')\n",
    "    data['time_diff_last_order_ip_address'] = time_diff_last_order_ip_address['time_diff_last_order']\n",
    "    \n",
    "    #Cumulative  number of order placed by device id & by ip address\n",
    "    data.sort_values('purchase_time', inplace=True)\n",
    "    data['device_id_cumcount_purchase_time'] = data.groupby('device_id').cumcount()\n",
    "    data['ip_address_cumcount_purchase_time'] = data.groupby('ip_address').cumcount()\n",
    "    \n",
    "    #Cumulative  purchase_value orderd from single ip address & device id\n",
    "    data['ip_address_cumsum_purchase_value'] = data.groupby('ip_address')['purchase_value'].cumsum()\n",
    "    data['device_id_cumsum_purchase_value'] = data.groupby('device_id')['purchase_value'].cumsum()\n",
    "    \n",
    "    #Total purchase_value orderd from single ip address & device id\n",
    "    ip_address_sum_purchase_value = data.groupby('ip_address')['purchase_value'].sum().reset_index()\n",
    "    ip_address_sum_purchase_value.columns  = ['ip_address', 'purchase_value_ip_address']\n",
    "    data = ip_address_sum_purchase_value.merge(data, how = 'right', right_on = 'ip_address', left_on = 'ip_address')\n",
    "\n",
    "    device_id_sum_purchase_value = data.groupby('device_id')['purchase_value'].sum().reset_index()\n",
    "    device_id_sum_purchase_value.columns  = ['device_id', 'purchase_value_device_id']\n",
    "    data = device_id_sum_purchase_value.merge(data, how = 'right', right_on = 'device_id', left_on = 'device_id')\n",
    "    \n",
    "    #time/day of week/month\n",
    "    data['purchase_time_hour'] = data['purchase_time'].map(lambda x: x.hour)\n",
    "    data['purchase_time_week'] = data['purchase_time'].map(lambda x: x.strftime('%A'))\n",
    "    data['purchase_time_Month'] = data['purchase_time'].map(lambda x: x.strftime('%B'))\n",
    "    return data"
   ]
  },
  {
   "cell_type": "code",
   "execution_count": 11,
   "metadata": {},
   "outputs": [],
   "source": [
    "data = create_new_features(data)"
   ]
  },
  {
   "cell_type": "code",
   "execution_count": 15,
   "metadata": {},
   "outputs": [
    {
     "name": "stdout",
     "output_type": "stream",
     "text": [
      "Fraudent order percentage: 9.3646%\n"
     ]
    }
   ],
   "source": [
    "print(\"Fraudent order percentage: %1.4f\"%(data['class'].mean()*100)+ '%')"
   ]
  },
  {
   "cell_type": "markdown",
   "metadata": {},
   "source": [
    "#### 1. Fraud purchases have lower time difference between sign up time and purchase"
   ]
  },
  {
   "cell_type": "code",
   "execution_count": 16,
   "metadata": {},
   "outputs": [
    {
     "data": {
      "text/plain": [
       "<AxesSubplot:xlabel='class', ylabel='purchase_signup_diff'>"
      ]
     },
     "execution_count": 16,
     "metadata": {},
     "output_type": "execute_result"
    },
    {
     "data": {
      "image/png": "[encoded data removed]",
      "text/plain": [
       "<Figure size 432x288 with 1 Axes>"
      ]
     },
     "metadata": {
      "needs_background": "light"
     },
     "output_type": "display_data"
    }
   ],
   "source": [
    "sns.boxplot(x='class', y='purchase_signup_diff', data=data)"
   ]
  },
  {
   "cell_type": "markdown",
   "metadata": {},
   "source": [
    "#### 2. Fraudulent Orders usually ordered by different user from similar device or ip address"
   ]
  },
  {
   "cell_type": "code",
   "execution_count": 17,
   "metadata": {},
   "outputs": [
    {
     "data": {
      "text/plain": [
       "<AxesSubplot:xlabel='class', ylabel='device_id_count'>"
      ]
     },
     "execution_count": 17,
     "metadata": {},
     "output_type": "execute_result"
    },
    {
     "data": {
      "image/png": "[encoded data removed]",
      "text/plain": [
       "<Figure size 432x288 with 1 Axes>"
      ]
     },
     "metadata": {
      "needs_background": "light"
     },
     "output_type": "display_data"
    }
   ],
   "source": [
    "sns.boxplot(x='class', y='device_id_count', data=data)"
   ]
  },
  {
   "cell_type": "code",
   "execution_count": 18,
   "metadata": {},
   "outputs": [],
   "source": [
    "# data[data['class'] == 1].sort_values(by = ['device_id_count'], ascending=False)[['device_id', 'device_id_count']].head(10)"
   ]
  },
  {
   "cell_type": "code",
   "execution_count": 19,
   "metadata": {},
   "outputs": [
    {
     "data": {
      "text/plain": [
       "<AxesSubplot:xlabel='class', ylabel='ip_address_count'>"
      ]
     },
     "execution_count": 19,
     "metadata": {},
     "output_type": "execute_result"
    },
    {
     "data": {
      "image/png": "[encoded data removed]",
      "text/plain": [
       "<Figure size 432x288 with 1 Axes>"
      ]
     },
     "metadata": {
      "needs_background": "light"
     },
     "output_type": "display_data"
    }
   ],
   "source": [
    "sns.boxplot(x='class', y='ip_address_count', data=data)"
   ]
  },
  {
   "cell_type": "markdown",
   "metadata": {},
   "source": [
    "#### 3. Time since the last order purchased by one single ip_address & device_id (too slow) - Fraud orders may be purchased together \n",
    "* fraudulent orders are usually purchased in bulk or by an account inactive for a long time"
   ]
  },
  {
   "cell_type": "code",
   "execution_count": 26,
   "metadata": {},
   "outputs": [],
   "source": [
    "fraud = data[(~data['time_diff_last_order_ip_address'].isnull())&(data['class']==1)]['time_diff_last_order_ip_address']\n",
    "not_fraud = data[(~data['time_diff_last_order_ip_address'].isnull())&(data['class']==0)]['time_diff_last_order_ip_address']"
   ]
  },
  {
   "cell_type": "code",
   "execution_count": 27,
   "metadata": {},
   "outputs": [
    {
     "data": {
      "image/png": "[encoded data removed]",
      "text/plain": [
       "<Figure size 720x432 with 2 Axes>"
      ]
     },
     "metadata": {
      "needs_background": "light"
     },
     "output_type": "display_data"
    }
   ],
   "source": [
    "colors = ['b','g']\n",
    "#sets up the axis and gets histogram data\n",
    "fig, ax1 = plt.subplots(figsize=(10, 6))\n",
    "ax2 = ax1.twinx()\n",
    "ax1.hist([not_fraud, fraud], color=colors)\n",
    "n, bins, patches = ax1.hist([not_fraud, fraud])\n",
    "ax1.cla() #clear the axis\n",
    "\n",
    "#plots the histogram data\n",
    "width = (bins[1] - bins[0]) * 0.5\n",
    "bins_shifted = bins + width\n",
    "ax1.bar(bins[:-1], n[0], width, align='edge', color=colors[0])\n",
    "ax2.bar(bins_shifted[:-1], n[1], width, align='edge', color=colors[1])\n",
    "\n",
    "#finishes the plot\n",
    "ax1.set_ylabel(\"Not Fraud\", color=colors[0])\n",
    "ax2.set_ylabel(\"Fraud\", color=colors[1])\n",
    "ax1.tick_params('y', colors=colors[0])\n",
    "ax2.tick_params('y', colors=colors[1])\n",
    "# plt.tight_layout()\n",
    "plt.show()"
   ]
  },
  {
   "cell_type": "code",
   "execution_count": 28,
   "metadata": {},
   "outputs": [
    {
     "name": "stdout",
     "output_type": "stream",
     "text": [
      "Fraudulent order percentage for orders have null time_diff_last_order_ip_address value is: 5.0129%\n",
      "\n",
      "\n",
      "Average time_diff_last_order_ip_address for Fraudulent orders and Non-Fraudulent Orders:\n"
     ]
    },
    {
     "data": {
      "text/plain": [
       "class\n",
       "0    44612.029503\n",
       "1    43455.287911\n",
       "Name: time_diff_last_order_ip_address, dtype: float64"
      ]
     },
     "execution_count": 28,
     "metadata": {},
     "output_type": "execute_result"
    }
   ],
   "source": [
    "print(\"Fraudulent order percentage for orders have null time_diff_last_order_ip_address value is: %1.4f\"%(data[data['time_diff_last_order_ip_address'].isnull()]['class'].mean()*100)+ '%')\n",
    "print('\\n')\n",
    "print(\"Average time_diff_last_order_ip_address for Fraudulent orders and Non-Fraudulent Orders:\")\n",
    "data[~data['time_diff_last_order_ip_address'].isnull()].groupby('class')['time_diff_last_order_ip_address'].mean()"
   ]
  },
  {
   "cell_type": "markdown",
   "metadata": {},
   "source": [
    "* Most of the orders that have null time_diff_last_order_ip_address value are not Fraudulent Orders. Also, most Fraudulent orders' time_diff_last_order_ip_address values are at the ends of the above histogram. So I will fill the null values with the average of non-fraudulent orders' time_diff_last_order_ip_address amount."
   ]
  },
  {
   "cell_type": "code",
   "execution_count": 31,
   "metadata": {},
   "outputs": [],
   "source": [
    "def fiil_time_diff_last_order_ip_address(df):\n",
    "    m = df[(~df['time_diff_last_order_ip_address'].isnull()) & \n",
    "             (df['class'] == 0)]['time_diff_last_order_ip_address'].mean()\n",
    "    df['time_diff_last_order_ip_address'] = df['time_diff_last_order_ip_address'].fillna(value=m)\n",
    "    return df"
   ]
  },
  {
   "cell_type": "code",
   "execution_count": 32,
   "metadata": {},
   "outputs": [
    {
     "name": "stdout",
     "output_type": "stream",
     "text": [
      "44612.029503105565\n"
     ]
    }
   ],
   "source": [
    "data = fiil_time_diff_last_order_ip_address(data)"
   ]
  },
  {
   "cell_type": "markdown",
   "metadata": {},
   "source": [
    "#### 4. Total purchase_value orderd from single ip address & device id"
   ]
  },
  {
   "cell_type": "code",
   "execution_count": 39,
   "metadata": {},
   "outputs": [
    {
     "data": {
      "text/plain": [
       "<AxesSubplot:xlabel='class', ylabel='purchase_value_ip_address'>"
      ]
     },
     "execution_count": 39,
     "metadata": {},
     "output_type": "execute_result"
    },
    {
     "data": {
      "image/png": "[encoded data removed]",
      "text/plain": [
       "<Figure size 432x288 with 1 Axes>"
      ]
     },
     "metadata": {
      "needs_background": "light"
     },
     "output_type": "display_data"
    }
   ],
   "source": [
    "sns.boxplot(x='class', y='purchase_value_ip_address', data=data)"
   ]
  },
  {
   "cell_type": "code",
   "execution_count": 40,
   "metadata": {},
   "outputs": [
    {
     "data": {
      "text/plain": [
       "<AxesSubplot:xlabel='class', ylabel='purchase_value_device_id'>"
      ]
     },
     "execution_count": 40,
     "metadata": {},
     "output_type": "execute_result"
    },
    {
     "data": {
      "image/png": "[encoded data removed]",
      "text/plain": [
       "<Figure size 432x288 with 1 Axes>"
      ]
     },
     "metadata": {
      "needs_background": "light"
     },
     "output_type": "display_data"
    }
   ],
   "source": [
    "sns.boxplot(x='class', y='purchase_value_device_id', data=data)"
   ]
  },
  {
   "cell_type": "markdown",
   "metadata": {},
   "source": [
    "#### 5. time/day of week/month\n",
    "* In January, 76.48% of the orders are fraudulent. This is a serious condition which we need to investigate further."
   ]
  },
  {
   "cell_type": "code",
   "execution_count": 43,
   "metadata": {},
   "outputs": [
    {
     "data": {
      "text/plain": [
       "(array([0, 1, 2, 3, 4, 5, 6]),\n",
       " [Text(0, 0, 'Thursday'),\n",
       "  Text(1, 0, 'Wednesday'),\n",
       "  Text(2, 0, 'Tuesday'),\n",
       "  Text(3, 0, 'Sunday'),\n",
       "  Text(4, 0, 'Monday'),\n",
       "  Text(5, 0, 'Friday'),\n",
       "  Text(6, 0, 'Saturday')])"
      ]
     },
     "execution_count": 43,
     "metadata": {},
     "output_type": "execute_result"
    },
    {
     "data": {
      "image/png": "[encoded data removed]",
      "text/plain": [
       "<Figure size 720x432 with 1 Axes>"
      ]
     },
     "metadata": {
      "needs_background": "light"
     },
     "output_type": "display_data"
    }
   ],
   "source": [
    "plt.subplots(figsize=(10, 6))\n",
    "p = sns.countplot(x='purchase_time_week', hue=\"class\", data=data)\n",
    "plt.xticks(rotation=45)"
   ]
  },
  {
   "cell_type": "code",
   "execution_count": 44,
   "metadata": {},
   "outputs": [
    {
     "data": {
      "text/plain": [
       "<AxesSubplot:>"
      ]
     },
     "execution_count": 44,
     "metadata": {},
     "output_type": "execute_result"
    },
    {
     "data": {
      "image/png": "[encoded data removed]",
      "text/plain": [
       "<Figure size 432x288 with 1 Axes>"
      ]
     },
     "metadata": {
      "needs_background": "light"
     },
     "output_type": "display_data"
    }
   ],
   "source": [
    "data.groupby(['purchase_time_week'])['class'].mean().reset_index().plot(kind = 'bar')"
   ]
  },
  {
   "cell_type": "code",
   "execution_count": 45,
   "metadata": {},
   "outputs": [
    {
     "data": {
      "text/plain": [
       "(array([ 0,  1,  2,  3,  4,  5,  6,  7,  8,  9, 10, 11]),\n",
       " [Text(0, 0, 'January'),\n",
       "  Text(1, 0, 'March'),\n",
       "  Text(2, 0, 'February'),\n",
       "  Text(3, 0, 'April'),\n",
       "  Text(4, 0, 'June'),\n",
       "  Text(5, 0, 'August'),\n",
       "  Text(6, 0, 'July'),\n",
       "  Text(7, 0, 'October'),\n",
       "  Text(8, 0, 'May'),\n",
       "  Text(9, 0, 'November'),\n",
       "  Text(10, 0, 'September'),\n",
       "  Text(11, 0, 'December')])"
      ]
     },
     "execution_count": 45,
     "metadata": {},
     "output_type": "execute_result"
    },
    {
     "data": {
      "image/png": "[encoded data removed]",
      "text/plain": [
       "<Figure size 720x432 with 1 Axes>"
      ]
     },
     "metadata": {
      "needs_background": "light"
     },
     "output_type": "display_data"
    }
   ],
   "source": [
    "plt.subplots(figsize=(10, 6))\n",
    "p = sns.countplot(x='purchase_time_Month', hue=\"class\", data=data)\n",
    "plt.xticks(rotation=45)"
   ]
  },
  {
   "cell_type": "code",
   "execution_count": 46,
   "metadata": {},
   "outputs": [
    {
     "data": {
      "text/plain": [
       "<AxesSubplot:>"
      ]
     },
     "execution_count": 46,
     "metadata": {},
     "output_type": "execute_result"
    },
    {
     "data": {
      "image/png": "[encoded data removed]",
      "text/plain": [
       "<Figure size 432x288 with 1 Axes>"
      ]
     },
     "metadata": {
      "needs_background": "light"
     },
     "output_type": "display_data"
    }
   ],
   "source": [
    "data.groupby(['purchase_time_Month'])['class'].mean().reset_index().plot(kind = 'bar')"
   ]
  },
  {
   "cell_type": "code",
   "execution_count": 47,
   "metadata": {},
   "outputs": [
    {
     "data": {
      "text/plain": [
       "purchase_time_Month\n",
       "April        0.044710\n",
       "August       0.044636\n",
       "December     0.060449\n",
       "February     0.045123\n",
       "January      0.764881\n",
       "July         0.046137\n",
       "June         0.044531\n",
       "March        0.045079\n",
       "May          0.047562\n",
       "November     0.045541\n",
       "October      0.045033\n",
       "September    0.046212\n",
       "Name: class, dtype: float64"
      ]
     },
     "execution_count": 47,
     "metadata": {},
     "output_type": "execute_result"
    }
   ],
   "source": [
    "data.groupby(['purchase_time_Month'])['class'].mean()"
   ]
  },
  {
   "cell_type": "code",
   "execution_count": 48,
   "metadata": {},
   "outputs": [
    {
     "data": {
      "text/plain": [
       "(array([ 0,  1,  2,  3,  4,  5,  6,  7,  8,  9, 10, 11, 12, 13, 14, 15, 16,\n",
       "        17, 18, 19, 20, 21, 22, 23]),\n",
       " [Text(0, 0, '0'),\n",
       "  Text(1, 0, '1'),\n",
       "  Text(2, 0, '2'),\n",
       "  Text(3, 0, '3'),\n",
       "  Text(4, 0, '4'),\n",
       "  Text(5, 0, '5'),\n",
       "  Text(6, 0, '6'),\n",
       "  Text(7, 0, '7'),\n",
       "  Text(8, 0, '8'),\n",
       "  Text(9, 0, '9'),\n",
       "  Text(10, 0, '10'),\n",
       "  Text(11, 0, '11'),\n",
       "  Text(12, 0, '12'),\n",
       "  Text(13, 0, '13'),\n",
       "  Text(14, 0, '14'),\n",
       "  Text(15, 0, '15'),\n",
       "  Text(16, 0, '16'),\n",
       "  Text(17, 0, '17'),\n",
       "  Text(18, 0, '18'),\n",
       "  Text(19, 0, '19'),\n",
       "  Text(20, 0, '20'),\n",
       "  Text(21, 0, '21'),\n",
       "  Text(22, 0, '22'),\n",
       "  Text(23, 0, '23')])"
      ]
     },
     "execution_count": 48,
     "metadata": {},
     "output_type": "execute_result"
    },
    {
     "data": {
      "image/png": "[encoded data removed]",
      "text/plain": [
       "<Figure size 720x432 with 1 Axes>"
      ]
     },
     "metadata": {
      "needs_background": "light"
     },
     "output_type": "display_data"
    }
   ],
   "source": [
    "plt.subplots(figsize=(10, 6))\n",
    "p = sns.countplot(x='purchase_time_hour', hue=\"class\", data=data)\n",
    "plt.xticks(rotation=45)"
   ]
  },
  {
   "cell_type": "code",
   "execution_count": 49,
   "metadata": {},
   "outputs": [],
   "source": [
    "# data.groupby(['purchase_time_hour'])['class'].mean().reset_index()"
   ]
  },
  {
   "cell_type": "code",
   "execution_count": 50,
   "metadata": {},
   "outputs": [
    {
     "data": {
      "text/plain": [
       "<AxesSubplot:xlabel='purchase_time_hour'>"
      ]
     },
     "execution_count": 50,
     "metadata": {},
     "output_type": "execute_result"
    },
    {
     "data": {
      "image/png": "[encoded data removed]",
      "text/plain": [
       "<Figure size 432x288 with 1 Axes>"
      ]
     },
     "metadata": {
      "needs_background": "light"
     },
     "output_type": "display_data"
    }
   ],
   "source": [
    "data.groupby(['purchase_time_hour'])['class'].mean().reset_index().sort_values(by = 'class').plot(kind = 'bar', x = 'purchase_time_hour', y = 'class')"
   ]
  },
  {
   "cell_type": "markdown",
   "metadata": {},
   "source": [
    "#### 6. Country"
   ]
  },
  {
   "cell_type": "code",
   "execution_count": 400,
   "metadata": {},
   "outputs": [],
   "source": [
    "country_fraud_per = data.groupby('country')['class'].mean().reset_index().sort_values('class', ascending=False)\n",
    "country_fraud_count = data.groupby('country').size().reset_index().sort_values(0, ascending=False)\n",
    "country_fraud = country_fraud_per.merge(country_fraud_count)\n",
    "country_fraud.columns = ['country', 'fraud_percentgae', 'order_count']\n",
    "country_fraud = data.groupby('country')['purchase_value'].sum().reset_index().merge(country_fraud)"
   ]
  },
  {
   "cell_type": "code",
   "execution_count": 401,
   "metadata": {},
   "outputs": [
    {
     "data": {
      "text/plain": [
       "<AxesSubplot:xlabel='fraud_percentgae', ylabel='order_count'>"
      ]
     },
     "execution_count": 401,
     "metadata": {},
     "output_type": "execute_result"
    },
    {
     "data": {
      "image/png": "[encoded data removed]",
      "text/plain": [
       "<Figure size 720x576 with 1 Axes>"
      ]
     },
     "metadata": {
      "needs_background": "light"
     },
     "output_type": "display_data"
    }
   ],
   "source": [
    "fig, ax1 = plt.subplots(figsize=(10, 8))\n",
    "sns.scatterplot(data = country_fraud, x = 'fraud_percentgae', y = 'order_count', size='purchase_value')"
   ]
  },
  {
   "cell_type": "code",
   "execution_count": 395,
   "metadata": {},
   "outputs": [],
   "source": [
    "# fig, ax1 = plt.subplots(figsize=(15, 8))\n",
    "# country_fraud['order_count'].plot(kind='bar', color='y', secondary_y=True)\n",
    "# country_fraud['fraud_percentgae'].plot(kind='line', marker='d')"
   ]
  },
  {
   "cell_type": "markdown",
   "metadata": {},
   "source": [
    "#### 7. Age"
   ]
  },
  {
   "cell_type": "code",
   "execution_count": 54,
   "metadata": {},
   "outputs": [
    {
     "data": {
      "text/plain": [
       "<AxesSubplot:xlabel='class', ylabel='age'>"
      ]
     },
     "execution_count": 54,
     "metadata": {},
     "output_type": "execute_result"
    },
    {
     "data": {
      "image/png": "[encoded data removed]",
      "text/plain": [
       "<Figure size 432x288 with 1 Axes>"
      ]
     },
     "metadata": {
      "needs_background": "light"
     },
     "output_type": "display_data"
    }
   ],
   "source": [
    "sns.boxplot(x='class', y='age', data=data)"
   ]
  },
  {
   "cell_type": "code",
   "execution_count": 55,
   "metadata": {},
   "outputs": [
    {
     "data": {
      "text/plain": [
       "<matplotlib.legend.Legend at 0x7fdc7a675a60>"
      ]
     },
     "execution_count": 55,
     "metadata": {},
     "output_type": "execute_result"
    },
    {
     "data": {
      "image/png": "[encoded data removed]",
      "text/plain": [
       "<Figure size 432x288 with 1 Axes>"
      ]
     },
     "metadata": {
      "needs_background": "light"
     },
     "output_type": "display_data"
    }
   ],
   "source": [
    "fraud = data[data['class']==1]['age']\n",
    "not_fraud = data[data['class']==0]['age']\n",
    "plt.hist(not_fraud, alpha = 0.5, label = 'not_fraud')\n",
    "plt.hist(fraud, alpha = 0.5, label = 'fraud')\n",
    "plt.legend(loc='best')"
   ]
  },
  {
   "cell_type": "markdown",
   "metadata": {},
   "source": [
    "#### 8. Sex"
   ]
  },
  {
   "cell_type": "code",
   "execution_count": 56,
   "metadata": {},
   "outputs": [
    {
     "data": {
      "text/plain": [
       "<AxesSubplot:xlabel='sex', ylabel='count'>"
      ]
     },
     "execution_count": 56,
     "metadata": {},
     "output_type": "execute_result"
    },
    {
     "data": {
      "image/png": "[encoded data removed]",
      "text/plain": [
       "<Figure size 432x288 with 1 Axes>"
      ]
     },
     "metadata": {
      "needs_background": "light"
     },
     "output_type": "display_data"
    }
   ],
   "source": [
    "sns.countplot(x=\"sex\", hue=\"class\", data=data)"
   ]
  },
  {
   "cell_type": "code",
   "execution_count": 57,
   "metadata": {},
   "outputs": [
    {
     "data": {
      "text/plain": [
       "sex  class\n",
       "F    0        0.908993\n",
       "     1        0.091007\n",
       "M    0        0.904477\n",
       "     1        0.095523\n",
       "dtype: float64"
      ]
     },
     "execution_count": 57,
     "metadata": {},
     "output_type": "execute_result"
    }
   ],
   "source": [
    "data.groupby([\"sex\", \"class\"]).size()/data.groupby([\"sex\"]).size()"
   ]
  },
  {
   "cell_type": "code",
   "execution_count": 58,
   "metadata": {},
   "outputs": [
    {
     "data": {
      "text/plain": [
       "class  sex\n",
       "0      F      0.416922\n",
       "       M      0.583078\n",
       "1      F      0.404000\n",
       "       M      0.596000\n",
       "dtype: float64"
      ]
     },
     "execution_count": 58,
     "metadata": {},
     "output_type": "execute_result"
    }
   ],
   "source": [
    "data.groupby([\"class\", \"sex\"]).size()/data.groupby([\"class\"]).size()"
   ]
  },
  {
   "cell_type": "markdown",
   "metadata": {},
   "source": [
    "#### 9. Source"
   ]
  },
  {
   "cell_type": "code",
   "execution_count": 59,
   "metadata": {},
   "outputs": [
    {
     "data": {
      "text/plain": [
       "array(['Ads', 'SEO', 'Direct'], dtype=object)"
      ]
     },
     "execution_count": 59,
     "metadata": {},
     "output_type": "execute_result"
    }
   ],
   "source": [
    "data['source'].unique()"
   ]
  },
  {
   "cell_type": "code",
   "execution_count": 60,
   "metadata": {},
   "outputs": [
    {
     "data": {
      "text/plain": [
       "<AxesSubplot:xlabel='class', ylabel='count'>"
      ]
     },
     "execution_count": 60,
     "metadata": {},
     "output_type": "execute_result"
    },
    {
     "data": {
      "image/png": "[encoded data removed]",
      "text/plain": [
       "<Figure size 432x288 with 1 Axes>"
      ]
     },
     "metadata": {
      "needs_background": "light"
     },
     "output_type": "display_data"
    }
   ],
   "source": [
    "sns.countplot(x='class', hue='source', data=data)"
   ]
  },
  {
   "cell_type": "markdown",
   "metadata": {},
   "source": [
    "#### 10. Fraudulent Order Percentage by ip_address & device_id\n",
    "\n",
    "* Fraudsters placed multiple fraudulent orders from one ip_address and/or device_id to boost their earnings."
   ]
  },
  {
   "cell_type": "code",
   "execution_count": 281,
   "metadata": {},
   "outputs": [],
   "source": [
    "def fraud_order_percentage(data, device_id_or_ip_address = 'device_id'):\n",
    "\n",
    "    device_id_fraud_per = pd.DataFrame(data[data['class'] == 1].groupby(device_id_or_ip_address).size()/data.groupby(device_id_or_ip_address).size(), columns = ['%fraud']).fillna(0).reset_index()\n",
    "\n",
    "    device_id_order_count = data.groupby(device_id_or_ip_address).size()\n",
    "    device_id_order_count = device_id_order_count.reset_index()\n",
    "    device_id_order_count.columns = [device_id_or_ip_address, '#orders']\n",
    "\n",
    "    device_id = device_id_order_count.merge(device_id_fraud_per)\n",
    "\n",
    "    device_id_weight = device_id.groupby(['#orders', '%fraud']).size().reset_index()\n",
    "    device_id_weight.columns = ['#orders', '%fraud', 'weight']\n",
    "    return device_id_weight"
   ]
  },
  {
   "cell_type": "code",
   "execution_count": 283,
   "metadata": {},
   "outputs": [
    {
     "data": {
      "text/plain": [
       "<AxesSubplot:xlabel='#orders', ylabel='%fraud'>"
      ]
     },
     "execution_count": 283,
     "metadata": {},
     "output_type": "execute_result"
    },
    {
     "data": {
      "image/png": "[encoded data removed]",
      "text/plain": [
       "<Figure size 576x432 with 1 Axes>"
      ]
     },
     "metadata": {
      "needs_background": "light"
     },
     "output_type": "display_data"
    }
   ],
   "source": [
    "device_id_weight = fraud_order_percentage(data, 'device_id')\n",
    "\n",
    "fig, ax1 = plt.subplots(figsize=(8, 6))\n",
    "sns.scatterplot(data=device_id_weight, x='#orders', y='%fraud', size='weight',\n",
    "            sizes=(40, 400))"
   ]
  },
  {
   "cell_type": "code",
   "execution_count": 284,
   "metadata": {},
   "outputs": [
    {
     "data": {
      "text/plain": [
       "<AxesSubplot:xlabel='#orders', ylabel='%fraud'>"
      ]
     },
     "execution_count": 284,
     "metadata": {},
     "output_type": "execute_result"
    },
    {
     "data": {
      "image/png": "[encoded data removed]",
      "text/plain": [
       "<Figure size 576x432 with 1 Axes>"
      ]
     },
     "metadata": {
      "needs_background": "light"
     },
     "output_type": "display_data"
    }
   ],
   "source": [
    "device_id_weight = fraud_order_percentage(data, 'ip_address')\n",
    "\n",
    "fig, ax1 = plt.subplots(figsize=(8, 6))\n",
    "sns.scatterplot(data=device_id_weight, x='#orders', y='%fraud', size='weight',\n",
    "            sizes=(40, 400))"
   ]
  },
  {
   "cell_type": "markdown",
   "metadata": {},
   "source": [
    "#### Analysis 1 - Fraudulent Orders in January\n",
    "* Utilize Decision Tree to find the main source of Fraud on January\n",
    "\n",
    "P.S. class_weight: https://machinelearningmastery.com/cost-sensitive-decision-trees-for-imbalanced-classification/"
   ]
  },
  {
   "cell_type": "code",
   "execution_count": 139,
   "metadata": {},
   "outputs": [],
   "source": [
    "import graphviz\n",
    "from sklearn.tree import DecisionTreeClassifier\n",
    "from sklearn.tree import export_graphviz\n",
    "from graphviz import Source"
   ]
  },
  {
   "cell_type": "code",
   "execution_count": 140,
   "metadata": {},
   "outputs": [
    {
     "data": {
      "text/plain": [
       "(10097, 25)"
      ]
     },
     "execution_count": 140,
     "metadata": {},
     "output_type": "execute_result"
    }
   ],
   "source": [
    "data_january = data[data['purchase_time_Month'] == 'January']\n",
    "data_january.shape"
   ]
  },
  {
   "cell_type": "code",
   "execution_count": 141,
   "metadata": {},
   "outputs": [
    {
     "name": "stdout",
     "output_type": "stream",
     "text": [
      "class\n",
      "0    2374\n",
      "1    7723\n",
      "dtype: int64\n",
      "0.7648806576210756\n"
     ]
    }
   ],
   "source": [
    "print(data_january.groupby('class').size())\n",
    "print(data_january['class'].mean())"
   ]
  },
  {
   "cell_type": "code",
   "execution_count": 142,
   "metadata": {},
   "outputs": [
    {
     "name": "stderr",
     "output_type": "stream",
     "text": [
      "<ipython-input-142-21c7e4816415>:4: SettingWithCopyWarning: \n",
      "A value is trying to be set on a copy of a slice from a DataFrame.\n",
      "Try using .loc[row_indexer,col_indexer] = value instead\n",
      "\n",
      "See the caveats in the documentation: https://pandas.pydata.org/pandas-docs/stable/user_guide/indexing.html#returning-a-view-versus-a-copy\n",
      "  data['country'] = data['country'].replace(countries_other)\n"
     ]
    }
   ],
   "source": [
    "def other_countries(data, n = 40):\n",
    "    bottom_countries = data.groupby('country').size().sort_values(ascending=False)[50:].index\n",
    "    countries_other = dict.fromkeys(bottom_countries, 'Others')\n",
    "    data['country'] = data['country'].replace(countries_other)\n",
    "    return data\n",
    "\n",
    "data_january = other_countries(data_january, 40)"
   ]
  },
  {
   "cell_type": "code",
   "execution_count": 143,
   "metadata": {},
   "outputs": [],
   "source": [
    "data_january_tree = data_january.drop(['device_id', 'ip_address', 'user_id', 'signup_time', \n",
    "                                       'purchase_time', 'country', 'purchase_time_hour'],axis=1)"
   ]
  },
  {
   "cell_type": "code",
   "execution_count": 144,
   "metadata": {},
   "outputs": [
    {
     "data": {
      "text/plain": [
       "(10097, 18)"
      ]
     },
     "execution_count": 144,
     "metadata": {},
     "output_type": "execute_result"
    }
   ],
   "source": [
    "data_january_tree.shape"
   ]
  },
  {
   "cell_type": "code",
   "execution_count": 145,
   "metadata": {},
   "outputs": [
    {
     "data": {
      "text/html": [
       "<div>\n",
       "<style scoped>\n",
       "    .dataframe tbody tr th:only-of-type {\n",
       "        vertical-align: middle;\n",
       "    }\n",
       "\n",
       "    .dataframe tbody tr th {\n",
       "        vertical-align: top;\n",
       "    }\n",
       "\n",
       "    .dataframe thead th {\n",
       "        text-align: right;\n",
       "    }\n",
       "</style>\n",
       "<table border=\"1\" class=\"dataframe\">\n",
       "  <thead>\n",
       "    <tr style=\"text-align: right;\">\n",
       "      <th></th>\n",
       "      <th>count</th>\n",
       "      <th>mean</th>\n",
       "      <th>std</th>\n",
       "      <th>min</th>\n",
       "      <th>25%</th>\n",
       "      <th>50%</th>\n",
       "      <th>75%</th>\n",
       "      <th>max</th>\n",
       "    </tr>\n",
       "  </thead>\n",
       "  <tbody>\n",
       "    <tr>\n",
       "      <th>purchase_value_device_id</th>\n",
       "      <td>10097.0</td>\n",
       "      <td>353.076458</td>\n",
       "      <td>287.933643</td>\n",
       "      <td>9.0</td>\n",
       "      <td>110.0</td>\n",
       "      <td>288.000000</td>\n",
       "      <td>516.0</td>\n",
       "      <td>1458.0</td>\n",
       "    </tr>\n",
       "    <tr>\n",
       "      <th>purchase_value_ip_address</th>\n",
       "      <td>10097.0</td>\n",
       "      <td>350.133802</td>\n",
       "      <td>286.829816</td>\n",
       "      <td>9.0</td>\n",
       "      <td>105.0</td>\n",
       "      <td>288.000000</td>\n",
       "      <td>512.0</td>\n",
       "      <td>1458.0</td>\n",
       "    </tr>\n",
       "    <tr>\n",
       "      <th>purchase_value</th>\n",
       "      <td>10097.0</td>\n",
       "      <td>36.783005</td>\n",
       "      <td>18.304909</td>\n",
       "      <td>9.0</td>\n",
       "      <td>22.0</td>\n",
       "      <td>34.000000</td>\n",
       "      <td>49.0</td>\n",
       "      <td>115.0</td>\n",
       "    </tr>\n",
       "    <tr>\n",
       "      <th>age</th>\n",
       "      <td>10097.0</td>\n",
       "      <td>33.407943</td>\n",
       "      <td>8.621330</td>\n",
       "      <td>18.0</td>\n",
       "      <td>27.0</td>\n",
       "      <td>33.000000</td>\n",
       "      <td>39.0</td>\n",
       "      <td>74.0</td>\n",
       "    </tr>\n",
       "    <tr>\n",
       "      <th>class</th>\n",
       "      <td>10097.0</td>\n",
       "      <td>0.764881</td>\n",
       "      <td>0.424094</td>\n",
       "      <td>0.0</td>\n",
       "      <td>1.0</td>\n",
       "      <td>1.000000</td>\n",
       "      <td>1.0</td>\n",
       "      <td>1.0</td>\n",
       "    </tr>\n",
       "    <tr>\n",
       "      <th>purchase_signup_diff</th>\n",
       "      <td>10097.0</td>\n",
       "      <td>218922.282262</td>\n",
       "      <td>493915.068194</td>\n",
       "      <td>1.0</td>\n",
       "      <td>1.0</td>\n",
       "      <td>1.000000</td>\n",
       "      <td>1.0</td>\n",
       "      <td>2656062.0</td>\n",
       "    </tr>\n",
       "    <tr>\n",
       "      <th>device_id_count</th>\n",
       "      <td>10097.0</td>\n",
       "      <td>9.501832</td>\n",
       "      <td>5.371262</td>\n",
       "      <td>1.0</td>\n",
       "      <td>6.0</td>\n",
       "      <td>11.000000</td>\n",
       "      <td>13.0</td>\n",
       "      <td>20.0</td>\n",
       "    </tr>\n",
       "    <tr>\n",
       "      <th>ip_address_count</th>\n",
       "      <td>10097.0</td>\n",
       "      <td>9.426166</td>\n",
       "      <td>5.367324</td>\n",
       "      <td>1.0</td>\n",
       "      <td>6.0</td>\n",
       "      <td>11.000000</td>\n",
       "      <td>13.0</td>\n",
       "      <td>20.0</td>\n",
       "    </tr>\n",
       "    <tr>\n",
       "      <th>time_diff_last_order_ip_address</th>\n",
       "      <td>10097.0</td>\n",
       "      <td>43786.183565</td>\n",
       "      <td>34754.953242</td>\n",
       "      <td>1.0</td>\n",
       "      <td>7.0</td>\n",
       "      <td>44612.029503</td>\n",
       "      <td>86394.0</td>\n",
       "      <td>86399.0</td>\n",
       "    </tr>\n",
       "    <tr>\n",
       "      <th>device_id_cumcount_purchase_time</th>\n",
       "      <td>10097.0</td>\n",
       "      <td>3.920471</td>\n",
       "      <td>3.887548</td>\n",
       "      <td>0.0</td>\n",
       "      <td>0.0</td>\n",
       "      <td>3.000000</td>\n",
       "      <td>7.0</td>\n",
       "      <td>19.0</td>\n",
       "    </tr>\n",
       "    <tr>\n",
       "      <th>ip_address_cumcount_purchase_time</th>\n",
       "      <td>10097.0</td>\n",
       "      <td>3.916015</td>\n",
       "      <td>3.885785</td>\n",
       "      <td>0.0</td>\n",
       "      <td>0.0</td>\n",
       "      <td>3.000000</td>\n",
       "      <td>7.0</td>\n",
       "      <td>19.0</td>\n",
       "    </tr>\n",
       "    <tr>\n",
       "      <th>ip_address_cumsum_purchase_value</th>\n",
       "      <td>10097.0</td>\n",
       "      <td>182.387244</td>\n",
       "      <td>186.853823</td>\n",
       "      <td>9.0</td>\n",
       "      <td>45.0</td>\n",
       "      <td>115.000000</td>\n",
       "      <td>256.0</td>\n",
       "      <td>1377.0</td>\n",
       "    </tr>\n",
       "    <tr>\n",
       "      <th>device_id_cumsum_purchase_value</th>\n",
       "      <td>10097.0</td>\n",
       "      <td>182.599485</td>\n",
       "      <td>187.091439</td>\n",
       "      <td>9.0</td>\n",
       "      <td>46.0</td>\n",
       "      <td>116.000000</td>\n",
       "      <td>256.0</td>\n",
       "      <td>1377.0</td>\n",
       "    </tr>\n",
       "  </tbody>\n",
       "</table>\n",
       "</div>"
      ],
      "text/plain": [
       "                                     count           mean            std   min    25%           50%      75%        max\n",
       "purchase_value_device_id           10097.0     353.076458     287.933643   9.0  110.0    288.000000    516.0     1458.0\n",
       "purchase_value_ip_address          10097.0     350.133802     286.829816   9.0  105.0    288.000000    512.0     1458.0\n",
       "purchase_value                     10097.0      36.783005      18.304909   9.0   22.0     34.000000     49.0      115.0\n",
       "age                                10097.0      33.407943       8.621330  18.0   27.0     33.000000     39.0       74.0\n",
       "class                              10097.0       0.764881       0.424094   0.0    1.0      1.000000      1.0        1.0\n",
       "purchase_signup_diff               10097.0  218922.282262  493915.068194   1.0    1.0      1.000000      1.0  2656062.0\n",
       "device_id_count                    10097.0       9.501832       5.371262   1.0    6.0     11.000000     13.0       20.0\n",
       "ip_address_count                   10097.0       9.426166       5.367324   1.0    6.0     11.000000     13.0       20.0\n",
       "time_diff_last_order_ip_address    10097.0   43786.183565   34754.953242   1.0    7.0  44612.029503  86394.0    86399.0\n",
       "device_id_cumcount_purchase_time   10097.0       3.920471       3.887548   0.0    0.0      3.000000      7.0       19.0\n",
       "ip_address_cumcount_purchase_time  10097.0       3.916015       3.885785   0.0    0.0      3.000000      7.0       19.0\n",
       "ip_address_cumsum_purchase_value   10097.0     182.387244     186.853823   9.0   45.0    115.000000    256.0     1377.0\n",
       "device_id_cumsum_purchase_value    10097.0     182.599485     187.091439   9.0   46.0    116.000000    256.0     1377.0"
      ]
     },
     "execution_count": 145,
     "metadata": {},
     "output_type": "execute_result"
    }
   ],
   "source": [
    "data_january_tree.describe().T"
   ]
  },
  {
   "cell_type": "code",
   "execution_count": 146,
   "metadata": {},
   "outputs": [
    {
     "name": "stdout",
     "output_type": "stream",
     "text": [
      "<class 'pandas.core.frame.DataFrame'>\n",
      "Int64Index: 10097 entries, 0 to 10925\n",
      "Data columns (total 18 columns):\n",
      " #   Column                             Non-Null Count  Dtype  \n",
      "---  ------                             --------------  -----  \n",
      " 0   purchase_value_device_id           10097 non-null  int64  \n",
      " 1   purchase_value_ip_address          10097 non-null  int64  \n",
      " 2   purchase_value                     10097 non-null  int64  \n",
      " 3   source                             10097 non-null  object \n",
      " 4   browser                            10097 non-null  object \n",
      " 5   sex                                10097 non-null  object \n",
      " 6   age                                10097 non-null  int64  \n",
      " 7   class                              10097 non-null  int64  \n",
      " 8   purchase_signup_diff               10097 non-null  float64\n",
      " 9   device_id_count                    10097 non-null  int64  \n",
      " 10  ip_address_count                   10097 non-null  int64  \n",
      " 11  time_diff_last_order_ip_address    10097 non-null  float64\n",
      " 12  device_id_cumcount_purchase_time   10097 non-null  int64  \n",
      " 13  ip_address_cumcount_purchase_time  10097 non-null  int64  \n",
      " 14  ip_address_cumsum_purchase_value   10097 non-null  int64  \n",
      " 15  device_id_cumsum_purchase_value    10097 non-null  int64  \n",
      " 16  purchase_time_week                 10097 non-null  object \n",
      " 17  purchase_time_Month                10097 non-null  object \n",
      "dtypes: float64(2), int64(11), object(5)\n",
      "memory usage: 1.5+ MB\n"
     ]
    }
   ],
   "source": [
    "data_january_tree.info()"
   ]
  },
  {
   "cell_type": "code",
   "execution_count": 147,
   "metadata": {},
   "outputs": [],
   "source": [
    "def decisionTree_January_FeartureInportance(df, classWeight):\n",
    "    df = pd.get_dummies(df, drop_first=True)\n",
    "    print(df.columns)\n",
    "    \n",
    "    data_january_tree_x = df.drop('class', axis = 1)\n",
    "    data_january_tree_y = df['class']\n",
    "    \n",
    "    tree=DecisionTreeClassifier(\n",
    "    class_weight=classWeight\n",
    "    )\n",
    "    \n",
    "    tree.fit(data_january_tree_x, data_january_tree_y)\n",
    "    \n",
    "    featureImportance_dic = dict(zip(data_january_tree_x.columns, tree.feature_importances_))\n",
    "    return pd.DataFrame.from_dict(featureImportance_dic, \n",
    "                                  orient='index', \n",
    "                                  columns=['feature_importances']).sort_values(by = 'feature_importances', \n",
    "                                                                               ascending=False)"
   ]
  },
  {
   "cell_type": "code",
   "execution_count": 148,
   "metadata": {},
   "outputs": [
    {
     "name": "stdout",
     "output_type": "stream",
     "text": [
      "Index(['purchase_value_device_id', 'purchase_value_ip_address', 'purchase_value', 'age', 'class', 'purchase_signup_diff', 'device_id_count', 'ip_address_count', 'time_diff_last_order_ip_address', 'device_id_cumcount_purchase_time', 'ip_address_cumcount_purchase_time', 'ip_address_cumsum_purchase_value', 'device_id_cumsum_purchase_value',\n",
      "       'source_Direct', 'source_SEO', 'browser_FireFox', 'browser_IE', 'browser_Opera', 'browser_Safari', 'sex_M', 'purchase_time_week_Monday', 'purchase_time_week_Saturday', 'purchase_time_week_Sunday', 'purchase_time_week_Thursday', 'purchase_time_week_Tuesday', 'purchase_time_week_Wednesday'],\n",
      "      dtype='object')\n"
     ]
    },
    {
     "data": {
      "text/html": [
       "<div>\n",
       "<style scoped>\n",
       "    .dataframe tbody tr th:only-of-type {\n",
       "        vertical-align: middle;\n",
       "    }\n",
       "\n",
       "    .dataframe tbody tr th {\n",
       "        vertical-align: top;\n",
       "    }\n",
       "\n",
       "    .dataframe thead th {\n",
       "        text-align: right;\n",
       "    }\n",
       "</style>\n",
       "<table border=\"1\" class=\"dataframe\">\n",
       "  <thead>\n",
       "    <tr style=\"text-align: right;\">\n",
       "      <th></th>\n",
       "      <th>feature_importances</th>\n",
       "    </tr>\n",
       "  </thead>\n",
       "  <tbody>\n",
       "    <tr>\n",
       "      <th>purchase_signup_diff</th>\n",
       "      <td>0.977336</td>\n",
       "    </tr>\n",
       "    <tr>\n",
       "      <th>age</th>\n",
       "      <td>0.004615</td>\n",
       "    </tr>\n",
       "    <tr>\n",
       "      <th>device_id_cumsum_purchase_value</th>\n",
       "      <td>0.003572</td>\n",
       "    </tr>\n",
       "    <tr>\n",
       "      <th>purchase_value_device_id</th>\n",
       "      <td>0.002671</td>\n",
       "    </tr>\n",
       "    <tr>\n",
       "      <th>ip_address_cumsum_purchase_value</th>\n",
       "      <td>0.001699</td>\n",
       "    </tr>\n",
       "    <tr>\n",
       "      <th>purchase_value_ip_address</th>\n",
       "      <td>0.001482</td>\n",
       "    </tr>\n",
       "    <tr>\n",
       "      <th>sex_M</th>\n",
       "      <td>0.001055</td>\n",
       "    </tr>\n",
       "    <tr>\n",
       "      <th>source_SEO</th>\n",
       "      <td>0.000813</td>\n",
       "    </tr>\n",
       "    <tr>\n",
       "      <th>purchase_time_week_Tuesday</th>\n",
       "      <td>0.000759</td>\n",
       "    </tr>\n",
       "    <tr>\n",
       "      <th>source_Direct</th>\n",
       "      <td>0.000750</td>\n",
       "    </tr>\n",
       "    <tr>\n",
       "      <th>purchase_time_week_Wednesday</th>\n",
       "      <td>0.000742</td>\n",
       "    </tr>\n",
       "    <tr>\n",
       "      <th>device_id_count</th>\n",
       "      <td>0.000691</td>\n",
       "    </tr>\n",
       "    <tr>\n",
       "      <th>purchase_value</th>\n",
       "      <td>0.000545</td>\n",
       "    </tr>\n",
       "    <tr>\n",
       "      <th>purchase_time_week_Sunday</th>\n",
       "      <td>0.000475</td>\n",
       "    </tr>\n",
       "    <tr>\n",
       "      <th>purchase_time_week_Thursday</th>\n",
       "      <td>0.000388</td>\n",
       "    </tr>\n",
       "    <tr>\n",
       "      <th>time_diff_last_order_ip_address</th>\n",
       "      <td>0.000352</td>\n",
       "    </tr>\n",
       "    <tr>\n",
       "      <th>purchase_time_week_Monday</th>\n",
       "      <td>0.000323</td>\n",
       "    </tr>\n",
       "    <tr>\n",
       "      <th>browser_Safari</th>\n",
       "      <td>0.000294</td>\n",
       "    </tr>\n",
       "    <tr>\n",
       "      <th>device_id_cumcount_purchase_time</th>\n",
       "      <td>0.000281</td>\n",
       "    </tr>\n",
       "    <tr>\n",
       "      <th>browser_FireFox</th>\n",
       "      <td>0.000281</td>\n",
       "    </tr>\n",
       "    <tr>\n",
       "      <th>browser_IE</th>\n",
       "      <td>0.000237</td>\n",
       "    </tr>\n",
       "    <tr>\n",
       "      <th>ip_address_count</th>\n",
       "      <td>0.000231</td>\n",
       "    </tr>\n",
       "    <tr>\n",
       "      <th>browser_Opera</th>\n",
       "      <td>0.000213</td>\n",
       "    </tr>\n",
       "    <tr>\n",
       "      <th>purchase_time_week_Saturday</th>\n",
       "      <td>0.000195</td>\n",
       "    </tr>\n",
       "    <tr>\n",
       "      <th>ip_address_cumcount_purchase_time</th>\n",
       "      <td>0.000000</td>\n",
       "    </tr>\n",
       "  </tbody>\n",
       "</table>\n",
       "</div>"
      ],
      "text/plain": [
       "                                   feature_importances\n",
       "purchase_signup_diff                          0.977336\n",
       "age                                           0.004615\n",
       "device_id_cumsum_purchase_value               0.003572\n",
       "purchase_value_device_id                      0.002671\n",
       "ip_address_cumsum_purchase_value              0.001699\n",
       "purchase_value_ip_address                     0.001482\n",
       "sex_M                                         0.001055\n",
       "source_SEO                                    0.000813\n",
       "purchase_time_week_Tuesday                    0.000759\n",
       "source_Direct                                 0.000750\n",
       "purchase_time_week_Wednesday                  0.000742\n",
       "device_id_count                               0.000691\n",
       "purchase_value                                0.000545\n",
       "purchase_time_week_Sunday                     0.000475\n",
       "purchase_time_week_Thursday                   0.000388\n",
       "time_diff_last_order_ip_address               0.000352\n",
       "purchase_time_week_Monday                     0.000323\n",
       "browser_Safari                                0.000294\n",
       "device_id_cumcount_purchase_time              0.000281\n",
       "browser_FireFox                               0.000281\n",
       "browser_IE                                    0.000237\n",
       "ip_address_count                              0.000231\n",
       "browser_Opera                                 0.000213\n",
       "purchase_time_week_Saturday                   0.000195\n",
       "ip_address_cumcount_purchase_time             0.000000"
      ]
     },
     "execution_count": 148,
     "metadata": {},
     "output_type": "execute_result"
    }
   ],
   "source": [
    "decisionTree_January_FeartureInportance(data_january_tree, {0:3, 1:1})"
   ]
  },
  {
   "cell_type": "markdown",
   "metadata": {},
   "source": [
    "#### We can find some extraordinary things from the January dataset feature importance compared with the whole dataset distribution.\n",
    " * In January, many fraudulent orders were purchased by newly registered accounts. The total purchase values are way larger than non-fraudulent orders'. And most of them registered a new account and then placed orders within a few seconds. They probably did this through a bot."
   ]
  },
  {
   "cell_type": "code",
   "execution_count": 174,
   "metadata": {},
   "outputs": [
    {
     "data": {
      "text/plain": [
       "<AxesSubplot:xlabel='class', ylabel='purchase_value_device_id'>"
      ]
     },
     "execution_count": 174,
     "metadata": {},
     "output_type": "execute_result"
    },
    {
     "data": {
      "image/png": "[encoded data removed]",
      "text/plain": [
       "<Figure size 720x360 with 2 Axes>"
      ]
     },
     "metadata": {
      "needs_background": "light"
     },
     "output_type": "display_data"
    }
   ],
   "source": [
    "fig, axs = plt.subplots(ncols=2, figsize=(10, 5))\n",
    "sns.violinplot(x='class', y='purchase_signup_diff', data=data_january, ax=axs[0])\n",
    "sns.violinplot(x='class', y='purchase_value_device_id', data=data_january, ax=axs[1])"
   ]
  },
  {
   "cell_type": "code",
   "execution_count": 166,
   "metadata": {},
   "outputs": [],
   "source": [
    "# sns.violinplot(x='class', y='age', data=data_january)"
   ]
  },
  {
   "cell_type": "code",
   "execution_count": 168,
   "metadata": {},
   "outputs": [
    {
     "data": {
      "text/plain": [
       "<AxesSubplot:xlabel='purchase_value_device_id', ylabel='purchase_signup_diff'>"
      ]
     },
     "execution_count": 168,
     "metadata": {},
     "output_type": "execute_result"
    },
    {
     "data": {
      "image/png": "[encoded data removed]",
      "text/plain": [
       "<Figure size 720x576 with 1 Axes>"
      ]
     },
     "metadata": {
      "needs_background": "light"
     },
     "output_type": "display_data"
    }
   ],
   "source": [
    "fig, ax1 = plt.subplots(figsize=(10, 8))\n",
    "sns.scatterplot(data=data_january, x='purchase_value_device_id', y='purchase_signup_diff', hue='class')"
   ]
  },
  {
   "cell_type": "markdown",
   "metadata": {},
   "source": [
    "#### Analysis 2 - Country Segmentation by performance\n",
    "* Performance Metrics:\n",
    " - \\# Orders\n",
    " - %Fraud(Order Numbers)\n",
    " - sum_purchase_value\n",
    "* Algorithm: \n",
    "    - K-Means: Preprocess the features by StandarScaler - Standardize features by removing the mean and scaling to unit variance"
   ]
  },
  {
   "cell_type": "code",
   "execution_count": 403,
   "metadata": {},
   "outputs": [
    {
     "data": {
      "text/html": [
       "<div>\n",
       "<style scoped>\n",
       "    .dataframe tbody tr th:only-of-type {\n",
       "        vertical-align: middle;\n",
       "    }\n",
       "\n",
       "    .dataframe tbody tr th {\n",
       "        vertical-align: top;\n",
       "    }\n",
       "\n",
       "    .dataframe thead th {\n",
       "        text-align: right;\n",
       "    }\n",
       "</style>\n",
       "<table border=\"1\" class=\"dataframe\">\n",
       "  <thead>\n",
       "    <tr style=\"text-align: right;\">\n",
       "      <th></th>\n",
       "      <th>purchase_value</th>\n",
       "      <th>fraud_percentgae</th>\n",
       "      <th>order_count</th>\n",
       "    </tr>\n",
       "    <tr>\n",
       "      <th>country</th>\n",
       "      <th></th>\n",
       "      <th></th>\n",
       "      <th></th>\n",
       "    </tr>\n",
       "  </thead>\n",
       "  <tbody>\n",
       "    <tr>\n",
       "      <th>Afghanistan</th>\n",
       "      <td>194</td>\n",
       "      <td>0.166667</td>\n",
       "      <td>6</td>\n",
       "    </tr>\n",
       "    <tr>\n",
       "      <th>Albania</th>\n",
       "      <td>379</td>\n",
       "      <td>0.000000</td>\n",
       "      <td>13</td>\n",
       "    </tr>\n",
       "    <tr>\n",
       "      <th>Algeria</th>\n",
       "      <td>4452</td>\n",
       "      <td>0.106557</td>\n",
       "      <td>122</td>\n",
       "    </tr>\n",
       "    <tr>\n",
       "      <th>Angola</th>\n",
       "      <td>836</td>\n",
       "      <td>0.041667</td>\n",
       "      <td>24</td>\n",
       "    </tr>\n",
       "    <tr>\n",
       "      <th>Antigua and Barbuda</th>\n",
       "      <td>95</td>\n",
       "      <td>0.000000</td>\n",
       "      <td>3</td>\n",
       "    </tr>\n",
       "  </tbody>\n",
       "</table>\n",
       "</div>"
      ],
      "text/plain": [
       "                     purchase_value  fraud_percentgae  order_count\n",
       "country                                                           \n",
       "Afghanistan                     194          0.166667            6\n",
       "Albania                         379          0.000000           13\n",
       "Algeria                        4452          0.106557          122\n",
       "Angola                          836          0.041667           24\n",
       "Antigua and Barbuda              95          0.000000            3"
      ]
     },
     "execution_count": 403,
     "metadata": {},
     "output_type": "execute_result"
    }
   ],
   "source": [
    "country_fraud = country_fraud.set_index('country')\n",
    "country_fraud_culster = country_fraud.copy()\n",
    "country_fraud_culster.head()"
   ]
  },
  {
   "cell_type": "code",
   "execution_count": 376,
   "metadata": {},
   "outputs": [],
   "source": [
    "from sklearn.cluster import KMeans\n",
    "from sklearn import preprocessing\n",
    "from sklearn import metrics\n",
    "from scipy.spatial.distance import cdist\n",
    "import numpy as np\n",
    "import matplotlib.pyplot as plt"
   ]
  },
  {
   "cell_type": "code",
   "execution_count": 404,
   "metadata": {},
   "outputs": [],
   "source": [
    "scaler = preprocessing.StandardScaler()\n",
    "country_fraud_transfromed = scaler.fit_transform(country_fraud_culster)"
   ]
  },
  {
   "cell_type": "code",
   "execution_count": 406,
   "metadata": {},
   "outputs": [
    {
     "data": {
      "image/png": "[encoded data removed]",
      "text/plain": [
       "<Figure size 432x288 with 1 Axes>"
      ]
     },
     "metadata": {
      "needs_background": "light"
     },
     "output_type": "display_data"
    }
   ],
   "source": [
    "# k means determine k\n",
    "distortions = []\n",
    "K = range(1,20)\n",
    "for k in K:\n",
    "    kmeanModel = KMeans(n_clusters=k)\n",
    "    kmeanModel.fit(country_fraud_transfromed)\n",
    "    distortions.append(sum(np.min(cdist(country_fraud_transfromed, kmeanModel.cluster_centers_, 'euclidean'), axis=1)) / country_fraud_transfromed.shape[0])\n",
    "\n",
    "# Plot the elbow\n",
    "plt.plot(K, distortions, 'bx-')\n",
    "plt.xlabel('k')\n",
    "plt.ylabel('Distortion')\n",
    "plt.title('The Elbow Method showing the optimal k')\n",
    "\n",
    "# zip joins x and y coordinates in pairs\n",
    "for x,y in zip(K,distortions):\n",
    "\n",
    "    label = x\n",
    "\n",
    "    plt.annotate(label, # this is the text\n",
    "                 (x,y), # this is the point to label\n",
    "                 textcoords=\"offset points\", # how to position the text\n",
    "                 xytext=(0,10), # distance from text to points (x,y)\n",
    "                 ha='center') # horizontal alignment can be left, right or center\n",
    "plt.show()"
   ]
  },
  {
   "cell_type": "code",
   "execution_count": 415,
   "metadata": {},
   "outputs": [],
   "source": [
    "# country_fraud_transfromed"
   ]
  },
  {
   "cell_type": "code",
   "execution_count": 408,
   "metadata": {},
   "outputs": [],
   "source": [
    "kmeanModel = KMeans(n_clusters=10).fit(country_fraud_transfromed)"
   ]
  },
  {
   "cell_type": "code",
   "execution_count": 410,
   "metadata": {},
   "outputs": [],
   "source": [
    "country_fraud_culster['cluster'] = kmeanModel.predict(country_fraud_transfromed)"
   ]
  },
  {
   "cell_type": "code",
   "execution_count": 416,
   "metadata": {},
   "outputs": [],
   "source": [
    "# fig, ax1 = plt.subplots(figsize=(10, 8))\n",
    "# sns.scatterplot(data = country_fraud_culster, x = 'purchase_value', y = 'order_count', size = 'fraud_percentgae', hue='cluster')"
   ]
  },
  {
   "cell_type": "code",
   "execution_count": 420,
   "metadata": {},
   "outputs": [
    {
     "data": {
      "text/html": [
       "<div>\n",
       "<style scoped>\n",
       "    .dataframe tbody tr th:only-of-type {\n",
       "        vertical-align: middle;\n",
       "    }\n",
       "\n",
       "    .dataframe tbody tr th {\n",
       "        vertical-align: top;\n",
       "    }\n",
       "\n",
       "    .dataframe thead th {\n",
       "        text-align: right;\n",
       "    }\n",
       "</style>\n",
       "<table border=\"1\" class=\"dataframe\">\n",
       "  <thead>\n",
       "    <tr style=\"text-align: right;\">\n",
       "      <th></th>\n",
       "      <th>purchase_value</th>\n",
       "      <th>fraud_percentgae</th>\n",
       "      <th>order_count</th>\n",
       "      <th>cluster</th>\n",
       "    </tr>\n",
       "    <tr>\n",
       "      <th>country</th>\n",
       "      <th></th>\n",
       "      <th></th>\n",
       "      <th></th>\n",
       "      <th></th>\n",
       "    </tr>\n",
       "  </thead>\n",
       "  <tbody>\n",
       "    <tr>\n",
       "      <th>Afghanistan</th>\n",
       "      <td>194</td>\n",
       "      <td>0.166667</td>\n",
       "      <td>6</td>\n",
       "      <td>0</td>\n",
       "    </tr>\n",
       "    <tr>\n",
       "      <th>Albania</th>\n",
       "      <td>379</td>\n",
       "      <td>0.000000</td>\n",
       "      <td>13</td>\n",
       "      <td>2</td>\n",
       "    </tr>\n",
       "    <tr>\n",
       "      <th>Algeria</th>\n",
       "      <td>4452</td>\n",
       "      <td>0.106557</td>\n",
       "      <td>122</td>\n",
       "      <td>0</td>\n",
       "    </tr>\n",
       "    <tr>\n",
       "      <th>Angola</th>\n",
       "      <td>836</td>\n",
       "      <td>0.041667</td>\n",
       "      <td>24</td>\n",
       "      <td>9</td>\n",
       "    </tr>\n",
       "    <tr>\n",
       "      <th>Antigua and Barbuda</th>\n",
       "      <td>95</td>\n",
       "      <td>0.000000</td>\n",
       "      <td>3</td>\n",
       "      <td>2</td>\n",
       "    </tr>\n",
       "    <tr>\n",
       "      <th>...</th>\n",
       "      <td>...</td>\n",
       "      <td>...</td>\n",
       "      <td>...</td>\n",
       "      <td>...</td>\n",
       "    </tr>\n",
       "    <tr>\n",
       "      <th>Virgin Islands (U.S.)</th>\n",
       "      <td>130</td>\n",
       "      <td>0.333333</td>\n",
       "      <td>3</td>\n",
       "      <td>3</td>\n",
       "    </tr>\n",
       "    <tr>\n",
       "      <th>Yemen</th>\n",
       "      <td>26</td>\n",
       "      <td>0.000000</td>\n",
       "      <td>1</td>\n",
       "      <td>2</td>\n",
       "    </tr>\n",
       "    <tr>\n",
       "      <th>Zambia</th>\n",
       "      <td>342</td>\n",
       "      <td>0.000000</td>\n",
       "      <td>10</td>\n",
       "      <td>2</td>\n",
       "    </tr>\n",
       "    <tr>\n",
       "      <th>Zimbabwe</th>\n",
       "      <td>228</td>\n",
       "      <td>0.000000</td>\n",
       "      <td>6</td>\n",
       "      <td>2</td>\n",
       "    </tr>\n",
       "    <tr>\n",
       "      <th>n</th>\n",
       "      <td>811699</td>\n",
       "      <td>0.085723</td>\n",
       "      <td>21966</td>\n",
       "      <td>5</td>\n",
       "    </tr>\n",
       "  </tbody>\n",
       "</table>\n",
       "<p>182 rows × 4 columns</p>\n",
       "</div>"
      ],
      "text/plain": [
       "                       purchase_value  fraud_percentgae  order_count  cluster\n",
       "country                                                                      \n",
       "Afghanistan                       194          0.166667            6        0\n",
       "Albania                           379          0.000000           13        2\n",
       "Algeria                          4452          0.106557          122        0\n",
       "Angola                            836          0.041667           24        9\n",
       "Antigua and Barbuda                95          0.000000            3        2\n",
       "...                               ...               ...          ...      ...\n",
       "Virgin Islands (U.S.)             130          0.333333            3        3\n",
       "Yemen                              26          0.000000            1        2\n",
       "Zambia                            342          0.000000           10        2\n",
       "Zimbabwe                          228          0.000000            6        2\n",
       "n                              811699          0.085723        21966        5\n",
       "\n",
       "[182 rows x 4 columns]"
      ]
     },
     "execution_count": 420,
     "metadata": {},
     "output_type": "execute_result"
    }
   ],
   "source": [
    "country_fraud_culster"
   ]
  },
  {
   "cell_type": "code",
   "execution_count": 414,
   "metadata": {},
   "outputs": [
    {
     "data": {
      "text/plain": [
       "<AxesSubplot:xlabel='fraud_percentgae', ylabel='order_count'>"
      ]
     },
     "execution_count": 414,
     "metadata": {},
     "output_type": "execute_result"
    },
    {
     "data": {
      "image/png": "[encoded data removed]",
      "text/plain": [
       "<Figure size 720x576 with 1 Axes>"
      ]
     },
     "metadata": {
      "needs_background": "light"
     },
     "output_type": "display_data"
    }
   ],
   "source": [
    "fig, ax1 = plt.subplots(figsize=(10, 8))\n",
    "sns.scatterplot(data = country_fraud_culster, x = 'fraud_percentgae', y = 'order_count', size = 'purchase_value', hue='cluster')"
   ]
  },
  {
   "cell_type": "code",
   "execution_count": 419,
   "metadata": {},
   "outputs": [],
   "source": [
    "country_cluster_dict = country_fraud_culster['cluster'].to_dict()"
   ]
  },
  {
   "cell_type": "markdown",
   "metadata": {},
   "source": [
    "## Build a model to predict whether an activity is fraudulent or not. Explain how different assumptions about the cost of false positives vs false negatives would impact the model\n",
    "* Random Forest\n",
    "* Gradient Boosting\n",
    "* XGBoosting\n",
    "* LightGBM"
   ]
  },
  {
   "cell_type": "code",
   "execution_count": 434,
   "metadata": {},
   "outputs": [],
   "source": [
    "from sklearn.ensemble import RandomForestClassifier\n",
    "\n",
    "from sklearn.metrics import confusion_matrix\n",
    "from sklearn.model_selection import train_test_split\n",
    "from datetime import datetime\n",
    "np.random.seed(4684)"
   ]
  },
  {
   "cell_type": "code",
   "execution_count": 428,
   "metadata": {},
   "outputs": [],
   "source": [
    "data_rf = data.drop(['device_id', 'ip_address', 'user_id', 'signup_time', \n",
    "                                       'purchase_time', 'purchase_time_hour'] ,axis=1)\n",
    "data_rf['country'] = data_rf['country'].map(lambda x: country_cluster_dict[x])"
   ]
  },
  {
   "cell_type": "code",
   "execution_count": 72,
   "metadata": {},
   "outputs": [],
   "source": [
    "#just keep the top 50 country, everything else is \"other\"\n",
    "#get countries from 51 to last one\n",
    "\n",
    "# bottom_countries = data_rf.groupby('country').size().sort_values(ascending=False)[50:].index\n",
    "\n",
    "# x = dict.fromkeys(bottom_countries, 'Other')\n",
    "# data_rf['country'] = data_rf['country'].replace(x)"
   ]
  },
  {
   "cell_type": "code",
   "execution_count": 432,
   "metadata": {},
   "outputs": [],
   "source": [
    "data_rf = pd.get_dummies(data_rf, drop_first=True)"
   ]
  },
  {
   "cell_type": "code",
   "execution_count": 435,
   "metadata": {},
   "outputs": [],
   "source": [
    "#split into train and test to avoid overfitting\n",
    "train, test = train_test_split(data_rf, test_size = 0.34)"
   ]
  },
  {
   "cell_type": "code",
   "execution_count": 436,
   "metadata": {},
   "outputs": [
    {
     "data": {
      "text/plain": [
       "RandomForestClassifier(max_features=3, oob_score=True)"
      ]
     },
     "execution_count": 436,
     "metadata": {},
     "output_type": "execute_result"
    }
   ],
   "source": [
    "#build the model\n",
    "rf = RandomForestClassifier(n_estimators=100, max_features=3, oob_score=True)\n",
    "rf.fit(train.drop('class', axis=1), train['class'])"
   ]
  },
  {
   "cell_type": "code",
   "execution_count": 438,
   "metadata": {},
   "outputs": [
    {
     "name": "stdout",
     "output_type": "stream",
     "text": [
      "OOB accuracy is 0.9560326070608525 \n",
      " OOB Confusion Matrix \n",
      "        0     1\n",
      "0  90346    59\n",
      "1   4326  5002\n"
     ]
    }
   ],
   "source": [
    "#let's print OOB accuracy and confusion matrix\n",
    "print(\n",
    "\"OOB accuracy is\", \n",
    "rf.oob_score_, \n",
    "\"\\n\", \n",
    "\"OOB Confusion Matrix\", \n",
    "\"\\n\",\n",
    "pd.DataFrame(confusion_matrix(train['class'], rf.oob_decision_function_[:,1].round(), labels=[0, 1]))\n",
    ")"
   ]
  },
  {
   "cell_type": "code",
   "execution_count": 55,
   "metadata": {},
   "outputs": [
    {
     "name": "stdout",
     "output_type": "stream",
     "text": [
      "Test accuracy is 0.9557990618735281 \n",
      " Test Set Confusion Matrix \n",
      "        0     1\n",
      "0  46492    24\n",
      "1   2247  2616\n"
     ]
    }
   ],
   "source": [
    "#and let's print test accuracy and confusion matrix\n",
    "print(\n",
    "\"Test accuracy is\", rf.score(test.drop('class', axis=1),test['class']), \n",
    "\"\\n\", \n",
    "\"Test Set Confusion Matrix\", \n",
    "\"\\n\",\n",
    "pandas.DataFrame(confusion_matrix(test['class'], rf.predict(test.drop('class', axis=1)), labels=[0, 1]))\n",
    ")"
   ]
  },
  {
   "cell_type": "code",
   "execution_count": 439,
   "metadata": {},
   "outputs": [
    {
     "name": "stdout",
     "output_type": "stream",
     "text": [
      "Test accuracy is 0.9569279277525837 \n",
      " Test Set Confusion Matrix \n",
      "        0     1\n",
      "0  46547     9\n",
      "1   2204  2619\n"
     ]
    }
   ],
   "source": [
    "#and let's print test accuracy and confusion matrix\n",
    "print(\n",
    "\"Test accuracy is\", rf.score(test.drop('class', axis=1),test['class']), \n",
    "\"\\n\", \n",
    "\"Test Set Confusion Matrix\", \n",
    "\"\\n\",\n",
    "pd.DataFrame(confusion_matrix(test['class'], rf.predict(test.drop('class', axis=1)), labels=[0, 1]))\n",
    ")"
   ]
  },
  {
   "cell_type": "code",
   "execution_count": 440,
   "metadata": {},
   "outputs": [
    {
     "name": "stdout",
     "output_type": "stream",
     "text": [
      "True\n"
     ]
    }
   ],
   "source": [
    "#We can double check that with a 0.5 cut-off we get the same results shown by rf output(since random forest internally uses 0.5)\n",
    "#Predictions as probabilities\n",
    "pred_prob=rf.predict_proba(test.drop('class', axis=1))[:,1]\n",
    "#Predictions as actual classes\n",
    "pred = rf.predict(test.drop('class', axis=1))\n",
    "  \n",
    "#Use 0.5 cutoff for probabilities. I.e. if larger > 0.5, predict 1, else predict 0. A short cut for this is using round function, which does exactly the same. If > 0.5, rounds to 1, else rounds to 0. Check if they are the same:\n",
    "print(np.array_equal(pred_prob.round(), pred))"
   ]
  },
  {
   "cell_type": "code",
   "execution_count": 441,
   "metadata": {},
   "outputs": [
    {
     "data": {
      "image/png": "[encoded data removed]",
      "text/plain": [
       "<Figure size 432x288 with 1 Axes>"
      ]
     },
     "metadata": {
      "needs_background": "light"
     },
     "output_type": "display_data"
    }
   ],
   "source": [
    "from sklearn.metrics import roc_curve\n",
    "import matplotlib.pyplot as plt\n",
    "#Let's get false positive rate and true positive rate and plot them in the ROC\n",
    "fpr, tpr, thresholds = roc_curve(test['class'],pred_prob)\n",
    "#plot\n",
    "plt.plot(fpr, tpr)\n",
    "plt.plot([0, 1], [0, 1])\n",
    "plt.ylim([0, 1.0])\n",
    "plt.xlabel('False Positive Rate')\n",
    "plt.ylabel('True Positive Rate')\n",
    "plt.title('ROC')\n",
    "plt.show()"
   ]
  },
  {
   "cell_type": "code",
   "execution_count": 444,
   "metadata": {},
   "outputs": [
    {
     "name": "stdout",
     "output_type": "stream",
     "text": [
      "    cutoff  class0_error  class1_error  optimal_value\n",
      "53    0.14      0.078035      0.296703       0.625262\n"
     ]
    }
   ],
   "source": [
    "#For consistency with R, we will focus on class errors, defined as class0_error = fpr and class1_error = 1 - tpr\n",
    "error_cutoff=pd.DataFrame({'cutoff':pd.Series(thresholds),\n",
    "                               'class0_error':pd.Series(fpr),\n",
    "                               'class1_error': 1 - pd.Series(tpr)\n",
    "                                })\n",
    "error_cutoff['optimal_value'] = 1 - error_cutoff['class1_error'] - error_cutoff['class0_error']\n",
    "print(error_cutoff.sort_values('optimal_value', ascending=False).head(1))"
   ]
  },
  {
   "cell_type": "code",
   "execution_count": 445,
   "metadata": {},
   "outputs": [
    {
     "data": {
      "text/html": [
       "<div>\n",
       "<style scoped>\n",
       "    .dataframe tbody tr th:only-of-type {\n",
       "        vertical-align: middle;\n",
       "    }\n",
       "\n",
       "    .dataframe tbody tr th {\n",
       "        vertical-align: top;\n",
       "    }\n",
       "\n",
       "    .dataframe thead th {\n",
       "        text-align: right;\n",
       "    }\n",
       "</style>\n",
       "<table border=\"1\" class=\"dataframe\">\n",
       "  <thead>\n",
       "    <tr style=\"text-align: right;\">\n",
       "      <th></th>\n",
       "      <th>cutoff</th>\n",
       "      <th>class0_error</th>\n",
       "      <th>class1_error</th>\n",
       "      <th>optimal_value</th>\n",
       "    </tr>\n",
       "  </thead>\n",
       "  <tbody>\n",
       "    <tr>\n",
       "      <th>0</th>\n",
       "      <td>2.00</td>\n",
       "      <td>0.000000</td>\n",
       "      <td>1.000000</td>\n",
       "      <td>0.000000</td>\n",
       "    </tr>\n",
       "    <tr>\n",
       "      <th>1</th>\n",
       "      <td>1.00</td>\n",
       "      <td>0.000000</td>\n",
       "      <td>0.572465</td>\n",
       "      <td>0.427535</td>\n",
       "    </tr>\n",
       "    <tr>\n",
       "      <th>2</th>\n",
       "      <td>0.99</td>\n",
       "      <td>0.000000</td>\n",
       "      <td>0.510263</td>\n",
       "      <td>0.489737</td>\n",
       "    </tr>\n",
       "    <tr>\n",
       "      <th>3</th>\n",
       "      <td>0.98</td>\n",
       "      <td>0.000000</td>\n",
       "      <td>0.486834</td>\n",
       "      <td>0.513166</td>\n",
       "    </tr>\n",
       "    <tr>\n",
       "      <th>4</th>\n",
       "      <td>0.97</td>\n",
       "      <td>0.000000</td>\n",
       "      <td>0.476260</td>\n",
       "      <td>0.523740</td>\n",
       "    </tr>\n",
       "    <tr>\n",
       "      <th>...</th>\n",
       "      <td>...</td>\n",
       "      <td>...</td>\n",
       "      <td>...</td>\n",
       "      <td>...</td>\n",
       "    </tr>\n",
       "    <tr>\n",
       "      <th>63</th>\n",
       "      <td>0.04</td>\n",
       "      <td>0.377846</td>\n",
       "      <td>0.189509</td>\n",
       "      <td>0.432645</td>\n",
       "    </tr>\n",
       "    <tr>\n",
       "      <th>64</th>\n",
       "      <td>0.03</td>\n",
       "      <td>0.498948</td>\n",
       "      <td>0.151565</td>\n",
       "      <td>0.349487</td>\n",
       "    </tr>\n",
       "    <tr>\n",
       "      <th>65</th>\n",
       "      <td>0.02</td>\n",
       "      <td>0.664039</td>\n",
       "      <td>0.102841</td>\n",
       "      <td>0.233120</td>\n",
       "    </tr>\n",
       "    <tr>\n",
       "      <th>66</th>\n",
       "      <td>0.01</td>\n",
       "      <td>0.852543</td>\n",
       "      <td>0.045407</td>\n",
       "      <td>0.102049</td>\n",
       "    </tr>\n",
       "    <tr>\n",
       "      <th>67</th>\n",
       "      <td>0.00</td>\n",
       "      <td>1.000000</td>\n",
       "      <td>0.000000</td>\n",
       "      <td>0.000000</td>\n",
       "    </tr>\n",
       "  </tbody>\n",
       "</table>\n",
       "<p>68 rows × 4 columns</p>\n",
       "</div>"
      ],
      "text/plain": [
       "    cutoff  class0_error  class1_error  optimal_value\n",
       "0     2.00      0.000000      1.000000       0.000000\n",
       "1     1.00      0.000000      0.572465       0.427535\n",
       "2     0.99      0.000000      0.510263       0.489737\n",
       "3     0.98      0.000000      0.486834       0.513166\n",
       "4     0.97      0.000000      0.476260       0.523740\n",
       "..     ...           ...           ...            ...\n",
       "63    0.04      0.377846      0.189509       0.432645\n",
       "64    0.03      0.498948      0.151565       0.349487\n",
       "65    0.02      0.664039      0.102841       0.233120\n",
       "66    0.01      0.852543      0.045407       0.102049\n",
       "67    0.00      1.000000      0.000000       0.000000\n",
       "\n",
       "[68 rows x 4 columns]"
      ]
     },
     "execution_count": 445,
     "metadata": {},
     "output_type": "execute_result"
    }
   ],
   "source": [
    "error_cutoff"
   ]
  },
  {
   "cell_type": "code",
   "execution_count": 447,
   "metadata": {},
   "outputs": [],
   "source": [
    "feat_importances = pd.DataFrame(rf.feature_importances_, index=train.drop('class', axis=1).columns)"
   ]
  },
  {
   "cell_type": "code",
   "execution_count": 448,
   "metadata": {},
   "outputs": [],
   "source": [
    "feat_importances.columns = ['col']"
   ]
  },
  {
   "cell_type": "code",
   "execution_count": 449,
   "metadata": {},
   "outputs": [
    {
     "data": {
      "text/html": [
       "<div>\n",
       "<style scoped>\n",
       "    .dataframe tbody tr th:only-of-type {\n",
       "        vertical-align: middle;\n",
       "    }\n",
       "\n",
       "    .dataframe tbody tr th {\n",
       "        vertical-align: top;\n",
       "    }\n",
       "\n",
       "    .dataframe thead th {\n",
       "        text-align: right;\n",
       "    }\n",
       "</style>\n",
       "<table border=\"1\" class=\"dataframe\">\n",
       "  <thead>\n",
       "    <tr style=\"text-align: right;\">\n",
       "      <th></th>\n",
       "      <th>col</th>\n",
       "    </tr>\n",
       "  </thead>\n",
       "  <tbody>\n",
       "    <tr>\n",
       "      <th>purchase_signup_diff</th>\n",
       "      <td>0.166869</td>\n",
       "    </tr>\n",
       "    <tr>\n",
       "      <th>device_id_count</th>\n",
       "      <td>0.085803</td>\n",
       "    </tr>\n",
       "    <tr>\n",
       "      <th>purchase_value_device_id</th>\n",
       "      <td>0.083884</td>\n",
       "    </tr>\n",
       "    <tr>\n",
       "      <th>ip_address_count</th>\n",
       "      <td>0.066318</td>\n",
       "    </tr>\n",
       "    <tr>\n",
       "      <th>ip_address_cumcount_purchase_time</th>\n",
       "      <td>0.063904</td>\n",
       "    </tr>\n",
       "    <tr>\n",
       "      <th>age</th>\n",
       "      <td>0.063735</td>\n",
       "    </tr>\n",
       "    <tr>\n",
       "      <th>device_id_cumcount_purchase_time</th>\n",
       "      <td>0.061442</td>\n",
       "    </tr>\n",
       "    <tr>\n",
       "      <th>purchase_value_ip_address</th>\n",
       "      <td>0.055782</td>\n",
       "    </tr>\n",
       "    <tr>\n",
       "      <th>device_id_cumsum_purchase_value</th>\n",
       "      <td>0.052328</td>\n",
       "    </tr>\n",
       "    <tr>\n",
       "      <th>ip_address_cumsum_purchase_value</th>\n",
       "      <td>0.048823</td>\n",
       "    </tr>\n",
       "    <tr>\n",
       "      <th>purchase_time_Month_January</th>\n",
       "      <td>0.040412</td>\n",
       "    </tr>\n",
       "    <tr>\n",
       "      <th>country</th>\n",
       "      <td>0.032984</td>\n",
       "    </tr>\n",
       "    <tr>\n",
       "      <th>purchase_value</th>\n",
       "      <td>0.030128</td>\n",
       "    </tr>\n",
       "    <tr>\n",
       "      <th>time_diff_last_order_ip_address</th>\n",
       "      <td>0.017322</td>\n",
       "    </tr>\n",
       "    <tr>\n",
       "      <th>sex_M</th>\n",
       "      <td>0.011680</td>\n",
       "    </tr>\n",
       "    <tr>\n",
       "      <th>source_SEO</th>\n",
       "      <td>0.009335</td>\n",
       "    </tr>\n",
       "    <tr>\n",
       "      <th>browser_IE</th>\n",
       "      <td>0.008582</td>\n",
       "    </tr>\n",
       "    <tr>\n",
       "      <th>browser_Safari</th>\n",
       "      <td>0.007440</td>\n",
       "    </tr>\n",
       "    <tr>\n",
       "      <th>source_Direct</th>\n",
       "      <td>0.007231</td>\n",
       "    </tr>\n",
       "    <tr>\n",
       "      <th>browser_FireFox</th>\n",
       "      <td>0.007038</td>\n",
       "    </tr>\n",
       "  </tbody>\n",
       "</table>\n",
       "</div>"
      ],
      "text/plain": [
       "                                        col\n",
       "purchase_signup_diff               0.166869\n",
       "device_id_count                    0.085803\n",
       "purchase_value_device_id           0.083884\n",
       "ip_address_count                   0.066318\n",
       "ip_address_cumcount_purchase_time  0.063904\n",
       "age                                0.063735\n",
       "device_id_cumcount_purchase_time   0.061442\n",
       "purchase_value_ip_address          0.055782\n",
       "device_id_cumsum_purchase_value    0.052328\n",
       "ip_address_cumsum_purchase_value   0.048823\n",
       "purchase_time_Month_January        0.040412\n",
       "country                            0.032984\n",
       "purchase_value                     0.030128\n",
       "time_diff_last_order_ip_address    0.017322\n",
       "sex_M                              0.011680\n",
       "source_SEO                         0.009335\n",
       "browser_IE                         0.008582\n",
       "browser_Safari                     0.007440\n",
       "source_Direct                      0.007231\n",
       "browser_FireFox                    0.007038"
      ]
     },
     "execution_count": 449,
     "metadata": {},
     "output_type": "execute_result"
    }
   ],
   "source": [
    "feat_importances.sort_values(by='col' , ascending = False)[:20]"
   ]
  },
  {
   "cell_type": "code",
   "execution_count": 450,
   "metadata": {},
   "outputs": [
    {
     "data": {
      "image/png": "[encoded data removed]",
      "text/plain": [
       "<Figure size 432x288 with 1 Axes>"
      ]
     },
     "metadata": {
      "needs_background": "light"
     },
     "output_type": "display_data"
    }
   ],
   "source": [
    "feat_importances.sort_values(by='col' ).head(30).plot(kind='barh')\n",
    "plt.show()"
   ]
  },
  {
   "cell_type": "code",
   "execution_count": null,
   "metadata": {},
   "outputs": [],
   "source": []
  }
 ],
 "metadata": {
  "kernelspec": {
   "display_name": "Python 3",
   "language": "python",
   "name": "python3"
  },
  "language_info": {
   "codemirror_mode": {
    "name": "ipython",
    "version": 3
   },
   "file_extension": ".py",
   "mimetype": "text/x-python",
   "name": "python",
   "nbconvert_exporter": "python",
   "pygments_lexer": "ipython3",
   "version": "3.8.2"
  }
 },
 "nbformat": 4,
 "nbformat_minor": 4
}
